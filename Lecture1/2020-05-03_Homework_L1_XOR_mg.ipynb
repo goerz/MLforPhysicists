{
 "cells": [
  {
   "cell_type": "markdown",
   "metadata": {},
   "source": [
    "# Homework: Construct a network for XOR"
   ]
  },
  {
   "cell_type": "code",
   "execution_count": 1,
   "metadata": {
    "execution": {
     "iopub.execute_input": "2020-05-04T06:03:45.763521Z",
     "iopub.status.busy": "2020-05-04T06:03:45.763121Z",
     "iopub.status.idle": "2020-05-04T06:03:45.947443Z",
     "shell.execute_reply": "2020-05-04T06:03:45.946717Z",
     "shell.execute_reply.started": "2020-05-04T06:03:45.763471Z"
    }
   },
   "outputs": [],
   "source": [
    "from activationfuncs import jump, linear, sigmoid\n",
    "from neuralnet import Layer, NeuralNet, visualize_2to1_network"
   ]
  },
  {
   "cell_type": "code",
   "execution_count": 4,
   "metadata": {
    "execution": {
     "iopub.execute_input": "2020-05-04T06:26:49.520469Z",
     "iopub.status.busy": "2020-05-04T06:26:49.520053Z",
     "iopub.status.idle": "2020-05-04T06:26:49.532762Z",
     "shell.execute_reply": "2020-05-04T06:26:49.531989Z",
     "shell.execute_reply.started": "2020-05-04T06:26:49.520417Z"
    }
   },
   "outputs": [],
   "source": [
    "xor_2hl_network = NeuralNet(\n",
    "    # fmt: off\n",
    "    #\n",
    "    # first hidden layer: binary activation to 1.0 iff\n",
    "    # * y_1 > 0 (node 1),\n",
    "    # * y_1 < 0 (node 2),\n",
    "    # * y_2 > 0 (node 3),\n",
    "    # * y_2 < 0 (node 4),\n",
    "    Layer(\n",
    "        W=[\n",
    "            [ 1,  0],\n",
    "            [-1,  0],\n",
    "            [ 0,  1],\n",
    "            [ 0, -1],\n",
    "        ],\n",
    "        b=0,\n",
    "        f=jump,\n",
    "    ),\n",
    "    #\n",
    "    #\n",
    "    # second hidden layer: logical \"and\" of input conditions:\n",
    "    # * y_1 > 0 and y_2 < 0 (node 1)\n",
    "    # * y_1 < 0 and y_2 > 0 (node 2)\n",
    "    #\n",
    "    # The logical \"and\" works this this: without bias and jump-activation, we\n",
    "    # have\n",
    "    # * (0, 0) -> 0,\n",
    "    # * (0, 1) -> 0.5,\n",
    "    # * (1, 1) -> 0.5,\n",
    "    # * (1, 1) -> 1.0\n",
    "    # shifting down by 0.75 and using jump activation selects (1, 1)\n",
    "    Layer(\n",
    "        W=[\n",
    "            [0.5, 0  , 0  , 0.5],\n",
    "            [0  , 0.5, 0.5, 0  ],\n",
    "        ],\n",
    "        b=-0.75,\n",
    "        f=jump,\n",
    "    ),\n",
    "    #\n",
    "    #\n",
    "    # output layer: logical \"or\" (superposition of inputs)\n",
    "    Layer(W=[[1, 1]], b=0, f=linear,),\n",
    "    # fmt: on\n",
    ")"
   ]
  },
  {
   "cell_type": "code",
   "execution_count": 3,
   "metadata": {
    "execution": {
     "iopub.execute_input": "2020-05-04T06:03:45.956398Z",
     "iopub.status.busy": "2020-05-04T06:03:45.956252Z",
     "iopub.status.idle": "2020-05-04T06:03:46.618811Z",
     "shell.execute_reply": "2020-05-04T06:03:46.618156Z",
     "shell.execute_reply.started": "2020-05-04T06:03:45.956378Z"
    }
   },
   "outputs": [
    {
     "data": {
      "image/png": "[encoded data removed]",
      "text/plain": [
       "<Figure size 576x288 with 3 Axes>"
      ]
     },
     "metadata": {},
     "output_type": "display_data"
    }
   ],
   "source": [
    "visualize_2to1_network(xor_2hl_network)"
   ]
  }
 ],
 "metadata": {
  "kernelspec": {
   "display_name": "Python 3",
   "language": "python",
   "name": "python3"
  },
  "language_info": {
   "codemirror_mode": {
    "name": "ipython",
    "version": 3
   },
   "file_extension": ".py",
   "mimetype": "text/x-python",
   "name": "python",
   "nbconvert_exporter": "python",
   "pygments_lexer": "ipython3",
   "version": "3.7.4"
  }
 },
 "nbformat": 4,
 "nbformat_minor": 4
}
